{
  "cells": [
    {
      "cell_type": "markdown",
      "source": [
        "<img style=\"float: left;\" src=\"D2Klogo.png\" width=\"20%\"> \n",
        "\n",
        "<center>\n",
        "\n",
        "# Welcome to Data Analytics #\n",
        "### Introduction to your first Data project ###\n",
        "\n",
        "### Code Demo for Day 1 ###"
      ],
      "metadata": {
        "id": "Oti1qmFTddkU"
      },
      "id": "Oti1qmFTddkU"
    },
    {
      "cell_type": "markdown",
      "source": [
        "# This demo is a toy example of how to solve a data analytics problem: \n",
        "## Question $\\rightarrow$ Data $\\rightarrow$ Answer $\\rightarrow$ More questions $\\rightarrow$ ...\n",
        "\n",
        "\n",
        "## Your ultimate goal is to walk through your own Data Science Pipeline by completing a real data project."
      ],
      "metadata": {
        "id": "ubducFb1d0Xd"
      },
      "id": "ubducFb1d0Xd"
    },
    {
      "cell_type": "markdown",
      "source": [
        "<br/>\n",
        "\n",
        "## Question: Can we predict test scores for students?\n",
        "\n",
        "How can we answer this question?"
      ],
      "metadata": {
        "id": "Q18ewp6Fd5OL"
      },
      "id": "Q18ewp6Fd5OL"
    },
    {
      "cell_type": "markdown",
      "source": [
        "<br/>\n",
        "\n",
        "\n",
        "## Ideas:\n",
        "\n",
        "1. which test scores are we predicting? \n",
        "2. What features can we use to predict test scores?\n",
        "3. What kind of model can we use to predict test scores?\n",
        "4. What are the most important features to predict test scores?\n",
        "5. Are there features that interact with each other that affect test scores?\n"
      ],
      "metadata": {
        "id": "rIjznNA7eLwV"
      },
      "id": "rIjznNA7eLwV"
    },
    {
      "cell_type": "markdown",
      "source": [
        "<br/>\n",
        "\n",
        "\n",
        "##About Dataset \n",
        "\n",
        "This dataset includes scores from three test scores of students at a (fictional) public school and a variety of personal and socio-economic factors that may have interaction effects upon them."
      ],
      "metadata": {
        "id": "HZY7G3YOe605"
      },
      "id": "HZY7G3YOe605"
    },
    {
      "cell_type": "markdown",
      "id": "a6e9d46b",
      "metadata": {
        "papermill": {
          "duration": 0.020529,
          "end_time": "2023-05-23T05:00:14.428493",
          "exception": false,
          "start_time": "2023-05-23T05:00:14.407964",
          "status": "completed"
        },
        "tags": [],
        "id": "a6e9d46b"
      },
      "source": [
        "#  **Predicting Student Test Scores**"
      ]
    },
    {
      "cell_type": "code",
      "execution_count": null,
      "id": "1ab268ed",
      "metadata": {
        "execution": {
          "iopub.execute_input": "2023-05-23T05:00:14.470499Z",
          "iopub.status.busy": "2023-05-23T05:00:14.470047Z",
          "iopub.status.idle": "2023-05-23T05:00:15.920131Z",
          "shell.execute_reply": "2023-05-23T05:00:15.918756Z"
        },
        "papermill": {
          "duration": 1.474158,
          "end_time": "2023-05-23T05:00:15.922925",
          "exception": false,
          "start_time": "2023-05-23T05:00:14.448767",
          "status": "completed"
        },
        "tags": [],
        "id": "1ab268ed"
      },
      "outputs": [],
      "source": [
        "#importing libraries\n",
        "import pandas as pd\n",
        "import numpy as np\n",
        "import plotly as px\n",
        "import matplotlib as plt\n",
        "import seaborn as sns"
      ]
    },
    {
      "cell_type": "markdown",
      "id": "f5a156f4",
      "metadata": {
        "papermill": {
          "duration": 0.019558,
          "end_time": "2023-05-23T05:00:15.962303",
          "exception": false,
          "start_time": "2023-05-23T05:00:15.942745",
          "status": "completed"
        },
        "tags": [],
        "id": "f5a156f4"
      },
      "source": [
        "**In this notebook:**\n",
        "1. Exploratory Data Analysis\n",
        "2. Preprocessing\n",
        "3. Model Creation\n",
        "4. Model Analysis\n",
        "5. Conclusion"
      ]
    },
    {
      "cell_type": "code",
      "execution_count": null,
      "id": "2402aa28",
      "metadata": {
        "execution": {
          "iopub.execute_input": "2023-05-23T05:00:16.004105Z",
          "iopub.status.busy": "2023-05-23T05:00:16.003126Z",
          "iopub.status.idle": "2023-05-23T05:00:16.188461Z",
          "shell.execute_reply": "2023-05-23T05:00:16.186825Z"
        },
        "papermill": {
          "duration": 0.209165,
          "end_time": "2023-05-23T05:00:16.191142",
          "exception": false,
          "start_time": "2023-05-23T05:00:15.981977",
          "status": "completed"
        },
        "tags": [],
        "id": "2402aa28"
      },
      "outputs": [],
      "source": [
        "df = pd.read_excel('/content/TestScoresDataset.xlsx')\n",
        "df.head(5) #print the first 5 rows"
      ]
    },
    {
      "cell_type": "code",
      "execution_count": null,
      "id": "3eb88db6",
      "metadata": {
        "execution": {
          "iopub.execute_input": "2023-05-23T05:00:16.235448Z",
          "iopub.status.busy": "2023-05-23T05:00:16.234988Z",
          "iopub.status.idle": "2023-05-23T05:00:16.243692Z",
          "shell.execute_reply": "2023-05-23T05:00:16.242105Z"
        },
        "papermill": {
          "duration": 0.033091,
          "end_time": "2023-05-23T05:00:16.246312",
          "exception": false,
          "start_time": "2023-05-23T05:00:16.213221",
          "status": "completed"
        },
        "tags": [],
        "id": "3eb88db6"
      },
      "outputs": [],
      "source": [
        "df.columns #print columns in the dataframe"
      ]
    },
    {
      "cell_type": "markdown",
      "id": "1ec989f7",
      "metadata": {
        "papermill": {
          "duration": 0.021499,
          "end_time": "2023-05-23T05:00:16.288103",
          "exception": false,
          "start_time": "2023-05-23T05:00:16.266604",
          "status": "completed"
        },
        "tags": [],
        "id": "1ec989f7"
      },
      "source": [
        "*Given in the dataset description, we have a data dictionary we will refer back to:*\n",
        "\n",
        "\n",
        "TestPrep: test preparation course (completed or none)\n",
        "\n",
        "\n",
        "PracticeSport: how often the student parctice sport\n",
        "\n",
        "IsFirstChild: if the child is first child in the family or not\n",
        "\n",
        "NrSiblings : Number of siblings the student has\n",
        "\n",
        "TransportMeans: Means of transport to school\n",
        "\n",
        "WklyStudyHours: Weekly self-study hours\n",
        "\n",
        "MathScore: math test score\n",
        "\n",
        "ReadingScore: reading test score\n",
        "\n",
        "WritingScore writing test score"
      ]
    },
    {
      "cell_type": "code",
      "source": [
        "df.shape"
      ],
      "metadata": {
        "id": "_zKuFIyAvq0Q"
      },
      "id": "_zKuFIyAvq0Q",
      "execution_count": null,
      "outputs": []
    },
    {
      "cell_type": "code",
      "execution_count": null,
      "id": "52aba668",
      "metadata": {
        "execution": {
          "iopub.execute_input": "2023-05-23T05:00:16.332761Z",
          "iopub.status.busy": "2023-05-23T05:00:16.332029Z",
          "iopub.status.idle": "2023-05-23T05:00:16.364371Z",
          "shell.execute_reply": "2023-05-23T05:00:16.362597Z"
        },
        "papermill": {
          "duration": 0.05853,
          "end_time": "2023-05-23T05:00:16.367362",
          "exception": false,
          "start_time": "2023-05-23T05:00:16.308832",
          "status": "completed"
        },
        "tags": [],
        "id": "52aba668"
      },
      "outputs": [],
      "source": [
        "#we have an unnecessary column, 'Unamed: 0', which seems to be an index column. \n",
        "#we will remove this column, as it provides no utility at this moment, or for the \n",
        "#model we will create later\n",
        "\n",
        "df = df.drop('Unnamed: 0', axis=1)\n",
        "df.head(5) #shows the column has been dropped"
      ]
    },
    {
      "cell_type": "code",
      "execution_count": null,
      "id": "c2fe6ece",
      "metadata": {
        "execution": {
          "iopub.execute_input": "2023-05-23T05:00:16.412834Z",
          "iopub.status.busy": "2023-05-23T05:00:16.412379Z",
          "iopub.status.idle": "2023-05-23T05:00:16.420801Z",
          "shell.execute_reply": "2023-05-23T05:00:16.419809Z"
        },
        "papermill": {
          "duration": 0.034994,
          "end_time": "2023-05-23T05:00:16.423321",
          "exception": false,
          "start_time": "2023-05-23T05:00:16.388327",
          "status": "completed"
        },
        "tags": [],
        "id": "c2fe6ece"
      },
      "outputs": [],
      "source": [
        "#I want to return the datatypes of each feature:\n",
        "df.dtypes"
      ]
    },
    {
      "cell_type": "code",
      "execution_count": null,
      "id": "b2a83b82",
      "metadata": {
        "execution": {
          "iopub.execute_input": "2023-05-23T05:00:16.469481Z",
          "iopub.status.busy": "2023-05-23T05:00:16.469008Z",
          "iopub.status.idle": "2023-05-23T05:00:16.505032Z",
          "shell.execute_reply": "2023-05-23T05:00:16.503656Z"
        },
        "papermill": {
          "duration": 0.062428,
          "end_time": "2023-05-23T05:00:16.507788",
          "exception": false,
          "start_time": "2023-05-23T05:00:16.445360",
          "status": "completed"
        },
        "tags": [],
        "id": "b2a83b82"
      },
      "outputs": [],
      "source": [
        "#all of our features are objects except NrSibligns\n",
        "#MathScore, ReadingScore, WritingScore are our target values\n",
        "\n",
        "#lets summarize the dataset (the numeric values)\n",
        "df.describe()"
      ]
    },
    {
      "cell_type": "code",
      "execution_count": null,
      "id": "97ecda94",
      "metadata": {
        "execution": {
          "iopub.execute_input": "2023-05-23T05:00:16.552417Z",
          "iopub.status.busy": "2023-05-23T05:00:16.552015Z",
          "iopub.status.idle": "2023-05-23T05:00:16.563621Z",
          "shell.execute_reply": "2023-05-23T05:00:16.562447Z"
        },
        "papermill": {
          "duration": 0.036621,
          "end_time": "2023-05-23T05:00:16.566153",
          "exception": false,
          "start_time": "2023-05-23T05:00:16.529532",
          "status": "completed"
        },
        "tags": [],
        "id": "97ecda94"
      },
      "outputs": [],
      "source": [
        "#Weekly study hours currently is in an improper format\n",
        "#Lets fix this\n",
        "\n",
        "#first, lets view the unique weekly study hours values:\n",
        "df['WklyStudyHours'].unique()"
      ]
    },
    {
      "cell_type": "code",
      "execution_count": null,
      "id": "362bf6cb",
      "metadata": {
        "execution": {
          "iopub.execute_input": "2023-05-23T05:00:16.669941Z",
          "iopub.status.busy": "2023-05-23T05:00:16.669466Z",
          "iopub.status.idle": "2023-05-23T05:00:16.705688Z",
          "shell.execute_reply": "2023-05-23T05:00:16.704532Z"
        },
        "papermill": {
          "duration": 0.063093,
          "end_time": "2023-05-23T05:00:16.709235",
          "exception": false,
          "start_time": "2023-05-23T05:00:16.646142",
          "status": "completed"
        },
        "tags": [],
        "id": "362bf6cb"
      },
      "outputs": [],
      "source": [
        "#let's remove these rows\n",
        "#we also will assign this new data to a new dataframe\n",
        "df2 = df.dropna(subset=['WklyStudyHours']).copy()\n",
        "df2['WklyStudyHours'].unique() #returns unique values after dropping 'nan'"
      ]
    },
    {
      "cell_type": "code",
      "execution_count": null,
      "id": "1344eb06",
      "metadata": {
        "execution": {
          "iopub.execute_input": "2023-05-23T05:00:16.755801Z",
          "iopub.status.busy": "2023-05-23T05:00:16.755362Z",
          "iopub.status.idle": "2023-05-23T05:00:16.775976Z",
          "shell.execute_reply": "2023-05-23T05:00:16.774438Z"
        },
        "papermill": {
          "duration": 0.047092,
          "end_time": "2023-05-23T05:00:16.778854",
          "exception": false,
          "start_time": "2023-05-23T05:00:16.731762",
          "status": "completed"
        },
        "tags": [],
        "id": "1344eb06"
      },
      "outputs": [],
      "source": [
        "df2.head()"
      ]
    },
    {
      "cell_type": "code",
      "execution_count": null,
      "id": "55a890e2",
      "metadata": {
        "execution": {
          "iopub.execute_input": "2023-05-23T05:00:16.826307Z",
          "iopub.status.busy": "2023-05-23T05:00:16.825675Z",
          "iopub.status.idle": "2023-05-23T05:00:16.832144Z",
          "shell.execute_reply": "2023-05-23T05:00:16.830549Z"
        },
        "papermill": {
          "duration": 0.033862,
          "end_time": "2023-05-23T05:00:16.835090",
          "exception": false,
          "start_time": "2023-05-23T05:00:16.801228",
          "status": "completed"
        },
        "tags": [],
        "id": "55a890e2"
      },
      "outputs": [],
      "source": [
        "#I see multiple 'NaN' values outside of this feature\n",
        "#We need to decide how to handle these rows\n",
        "\n",
        "#they aren't numeric values, so we cannot substitute them with the means\n",
        "#we will fix this after the EDA (exploratory data analysis)"
      ]
    },
    {
      "cell_type": "markdown",
      "id": "5bbb477c",
      "metadata": {
        "papermill": {
          "duration": 0.022103,
          "end_time": "2023-05-23T05:00:16.881532",
          "exception": false,
          "start_time": "2023-05-23T05:00:16.859429",
          "status": "completed"
        },
        "tags": [],
        "id": "5bbb477c"
      },
      "source": [
        "**Exploratory Data Analysis**"
      ]
    },
    {
      "cell_type": "code",
      "source": [
        "import matplotlib.pyplot as plt"
      ],
      "metadata": {
        "id": "evKgCJIBmP4X"
      },
      "id": "evKgCJIBmP4X",
      "execution_count": null,
      "outputs": []
    },
    {
      "cell_type": "markdown",
      "source": [
        "*TestPrep Distribution*"
      ],
      "metadata": {
        "id": "gP4c25kahTGR"
      },
      "id": "gP4c25kahTGR"
    },
    {
      "cell_type": "code",
      "execution_count": null,
      "id": "547bb671",
      "metadata": {
        "execution": {
          "iopub.execute_input": "2023-05-23T05:00:18.330072Z",
          "iopub.status.busy": "2023-05-23T05:00:18.328827Z",
          "iopub.status.idle": "2023-05-23T05:00:18.599987Z",
          "shell.execute_reply": "2023-05-23T05:00:18.598542Z"
        },
        "papermill": {
          "duration": 0.300192,
          "end_time": "2023-05-23T05:00:18.602697",
          "exception": false,
          "start_time": "2023-05-23T05:00:18.302505",
          "status": "completed"
        },
        "tags": [],
        "id": "547bb671"
      },
      "outputs": [],
      "source": [
        "#testprep distribution\n",
        "plt.figure(figsize=(6,4))\n",
        "df2['TestPrep'].value_counts().plot(kind='bar')\n",
        "plt.xlabel('Test Preparation Course')\n",
        "plt.ylabel('Count')\n",
        "plt.title('Distribution of Test Preparation Courses')\n",
        "plt.show()"
      ]
    },
    {
      "cell_type": "markdown",
      "source": [
        "*frequency of practicing sports*"
      ],
      "metadata": {
        "id": "l5ts34_ShduV"
      },
      "id": "l5ts34_ShduV"
    },
    {
      "cell_type": "code",
      "execution_count": null,
      "id": "c3585701",
      "metadata": {
        "execution": {
          "iopub.execute_input": "2023-05-23T05:00:19.009552Z",
          "iopub.status.busy": "2023-05-23T05:00:19.009099Z",
          "iopub.status.idle": "2023-05-23T05:00:19.241781Z",
          "shell.execute_reply": "2023-05-23T05:00:19.240280Z"
        },
        "papermill": {
          "duration": 0.263096,
          "end_time": "2023-05-23T05:00:19.244830",
          "exception": false,
          "start_time": "2023-05-23T05:00:18.981734",
          "status": "completed"
        },
        "tags": [],
        "id": "c3585701"
      },
      "outputs": [],
      "source": [
        "#frequency of practicing sports\n",
        "plt.figure(figsize=(6,4))\n",
        "df2['PracticeSport'].value_counts().plot(kind='bar')\n",
        "plt.xlabel('Frequency of Practicing Sports')\n",
        "plt.ylabel('Count')\n",
        "plt.title('Distribution of Frequency of Practicing Sports')\n",
        "plt.show()"
      ]
    },
    {
      "cell_type": "code",
      "execution_count": null,
      "id": "ca21c0b9",
      "metadata": {
        "execution": {
          "iopub.execute_input": "2023-05-23T05:00:19.296757Z",
          "iopub.status.busy": "2023-05-23T05:00:19.296363Z",
          "iopub.status.idle": "2023-05-23T05:00:19.500666Z",
          "shell.execute_reply": "2023-05-23T05:00:19.499357Z"
        },
        "papermill": {
          "duration": 0.233644,
          "end_time": "2023-05-23T05:00:19.503489",
          "exception": false,
          "start_time": "2023-05-23T05:00:19.269845",
          "status": "completed"
        },
        "tags": [],
        "id": "ca21c0b9"
      },
      "outputs": [],
      "source": [
        "#firstchild distribution\n",
        "plt.figure(figsize=(6,4))\n",
        "df2['IsFirstChild'].value_counts().plot(kind='bar')\n",
        "plt.xlabel('Is First Child?')\n",
        "plt.ylabel('Count')\n",
        "plt.title('First Child Distribution')\n",
        "plt.show()"
      ]
    },
    {
      "cell_type": "code",
      "execution_count": null,
      "id": "65c89d0f",
      "metadata": {
        "execution": {
          "iopub.execute_input": "2023-05-23T05:00:19.558644Z",
          "iopub.status.busy": "2023-05-23T05:00:19.558230Z",
          "iopub.status.idle": "2023-05-23T05:00:19.805290Z",
          "shell.execute_reply": "2023-05-23T05:00:19.803969Z"
        },
        "papermill": {
          "duration": 0.278278,
          "end_time": "2023-05-23T05:00:19.808219",
          "exception": false,
          "start_time": "2023-05-23T05:00:19.529941",
          "status": "completed"
        },
        "tags": [],
        "id": "65c89d0f"
      },
      "outputs": [],
      "source": [
        "#number of siblings\n",
        "plt.figure(figsize=(6,4))\n",
        "df2['NrSiblings'].hist(bins=8)\n",
        "plt.xlabel('Number of Siblings')\n",
        "plt.ylabel('Count')\n",
        "plt.title('Distribution of Number of Siblings')\n",
        "plt.show()"
      ]
    },
    {
      "cell_type": "code",
      "execution_count": null,
      "id": "97314282",
      "metadata": {
        "execution": {
          "iopub.execute_input": "2023-05-23T05:00:19.869578Z",
          "iopub.status.busy": "2023-05-23T05:00:19.869015Z",
          "iopub.status.idle": "2023-05-23T05:00:20.115603Z",
          "shell.execute_reply": "2023-05-23T05:00:20.114341Z"
        },
        "papermill": {
          "duration": 0.282212,
          "end_time": "2023-05-23T05:00:20.118316",
          "exception": false,
          "start_time": "2023-05-23T05:00:19.836104",
          "status": "completed"
        },
        "tags": [],
        "id": "97314282"
      },
      "outputs": [],
      "source": [
        "#transportation means\n",
        "plt.figure(figsize=(8,4))\n",
        "df2['TransportMeans'].value_counts().plot(kind='bar')\n",
        "plt.xlabel('Means of Transport to School')\n",
        "plt.ylabel('Count')\n",
        "plt.title('Transportation Distribution')\n",
        "plt.show()"
      ]
    },
    {
      "cell_type": "code",
      "execution_count": null,
      "id": "e2129332",
      "metadata": {
        "execution": {
          "iopub.execute_input": "2023-05-23T05:00:20.173955Z",
          "iopub.status.busy": "2023-05-23T05:00:20.173508Z",
          "iopub.status.idle": "2023-05-23T05:00:20.417330Z",
          "shell.execute_reply": "2023-05-23T05:00:20.416323Z"
        },
        "papermill": {
          "duration": 0.274387,
          "end_time": "2023-05-23T05:00:20.419827",
          "exception": false,
          "start_time": "2023-05-23T05:00:20.145440",
          "status": "completed"
        },
        "tags": [],
        "id": "e2129332"
      },
      "outputs": [],
      "source": [
        "#Study Hours Distribution\n",
        "plt.figure(figsize=(6,4))\n",
        "df2['WklyStudyHours'].hist(bins=20)\n",
        "plt.xlabel('Weekly Self-Study Hours')\n",
        "plt.ylabel('Count')\n",
        "plt.title('Distribution of Weekly Self-Study Hours')\n",
        "plt.show()"
      ]
    },
    {
      "cell_type": "code",
      "execution_count": null,
      "id": "8651cc5a",
      "metadata": {
        "execution": {
          "iopub.execute_input": "2023-05-23T05:00:20.477227Z",
          "iopub.status.busy": "2023-05-23T05:00:20.476365Z",
          "iopub.status.idle": "2023-05-23T05:00:20.721159Z",
          "shell.execute_reply": "2023-05-23T05:00:20.719475Z"
        },
        "papermill": {
          "duration": 0.277059,
          "end_time": "2023-05-23T05:00:20.724439",
          "exception": false,
          "start_time": "2023-05-23T05:00:20.447380",
          "status": "completed"
        },
        "tags": [],
        "id": "8651cc5a"
      },
      "outputs": [],
      "source": [
        "#Math Scores\n",
        "plt.figure(figsize=(6,4))\n",
        "df2['MathScore'].hist(bins=20)\n",
        "plt.xlabel('Math Score')\n",
        "plt.ylabel('Count')\n",
        "plt.title('Distribution of Math Test Scores')\n",
        "plt.show()"
      ]
    },
    {
      "cell_type": "code",
      "execution_count": null,
      "id": "655c1edc",
      "metadata": {
        "execution": {
          "iopub.execute_input": "2023-05-23T05:00:20.783957Z",
          "iopub.status.busy": "2023-05-23T05:00:20.783485Z",
          "iopub.status.idle": "2023-05-23T05:00:21.038505Z",
          "shell.execute_reply": "2023-05-23T05:00:21.037326Z"
        },
        "papermill": {
          "duration": 0.28759,
          "end_time": "2023-05-23T05:00:21.041080",
          "exception": false,
          "start_time": "2023-05-23T05:00:20.753490",
          "status": "completed"
        },
        "tags": [],
        "id": "655c1edc"
      },
      "outputs": [],
      "source": [
        "#Reading Scores\n",
        "plt.figure(figsize=(6,4))\n",
        "df2['ReadingScore'].hist(bins=20)\n",
        "plt.xlabel('Reading Score')\n",
        "plt.ylabel('Count')\n",
        "plt.title('Distribution of Reading Test Scores')\n",
        "plt.show()"
      ]
    },
    {
      "cell_type": "code",
      "execution_count": null,
      "id": "905d95ac",
      "metadata": {
        "execution": {
          "iopub.execute_input": "2023-05-23T05:00:21.100185Z",
          "iopub.status.busy": "2023-05-23T05:00:21.099306Z",
          "iopub.status.idle": "2023-05-23T05:00:21.343092Z",
          "shell.execute_reply": "2023-05-23T05:00:21.341775Z"
        },
        "papermill": {
          "duration": 0.277206,
          "end_time": "2023-05-23T05:00:21.345806",
          "exception": false,
          "start_time": "2023-05-23T05:00:21.068600",
          "status": "completed"
        },
        "tags": [],
        "id": "905d95ac"
      },
      "outputs": [],
      "source": [
        "#Writing Scores\n",
        "plt.figure(figsize=(6,4))\n",
        "df2['WritingScore'].hist(bins=20)\n",
        "plt.xlabel('Writing Score')\n",
        "plt.ylabel('Count')\n",
        "plt.title('Distribution of Writing Test Scores')\n",
        "plt.show()"
      ]
    },
    {
      "cell_type": "code",
      "execution_count": null,
      "id": "6bc7b430",
      "metadata": {
        "execution": {
          "iopub.execute_input": "2023-05-23T05:00:21.405863Z",
          "iopub.status.busy": "2023-05-23T05:00:21.404980Z",
          "iopub.status.idle": "2023-05-23T05:00:21.683971Z",
          "shell.execute_reply": "2023-05-23T05:00:21.682984Z"
        },
        "papermill": {
          "duration": 0.312826,
          "end_time": "2023-05-23T05:00:21.687148",
          "exception": false,
          "start_time": "2023-05-23T05:00:21.374322",
          "status": "completed"
        },
        "tags": [],
        "id": "6bc7b430"
      },
      "outputs": [],
      "source": [
        "#Scatterplot between Math and Reading\n",
        "sns.scatterplot(x='MathScore', y='ReadingScore', data=df2)\n",
        "plt.show()\n"
      ]
    },
    {
      "cell_type": "code",
      "execution_count": null,
      "id": "a7f2d7f4",
      "metadata": {
        "execution": {
          "iopub.execute_input": "2023-05-23T05:00:21.752419Z",
          "iopub.status.busy": "2023-05-23T05:00:21.751107Z",
          "iopub.status.idle": "2023-05-23T05:00:22.019989Z",
          "shell.execute_reply": "2023-05-23T05:00:22.018994Z"
        },
        "papermill": {
          "duration": 0.30363,
          "end_time": "2023-05-23T05:00:22.022833",
          "exception": false,
          "start_time": "2023-05-23T05:00:21.719203",
          "status": "completed"
        },
        "tags": [],
        "id": "a7f2d7f4"
      },
      "outputs": [],
      "source": [
        "#Scatterplot between Math and Writing\n",
        "sns.scatterplot(x='MathScore', y='WritingScore', data=df2)\n",
        "plt.show()"
      ]
    },
    {
      "cell_type": "code",
      "execution_count": null,
      "id": "bbbc7e4c",
      "metadata": {
        "execution": {
          "iopub.execute_input": "2023-05-23T05:00:22.089656Z",
          "iopub.status.busy": "2023-05-23T05:00:22.088152Z",
          "iopub.status.idle": "2023-05-23T05:00:22.347932Z",
          "shell.execute_reply": "2023-05-23T05:00:22.346405Z"
        },
        "papermill": {
          "duration": 0.296601,
          "end_time": "2023-05-23T05:00:22.351453",
          "exception": false,
          "start_time": "2023-05-23T05:00:22.054852",
          "status": "completed"
        },
        "tags": [],
        "id": "bbbc7e4c"
      },
      "outputs": [],
      "source": [
        "#Scatterplot between Reading and Writing\n",
        "sns.scatterplot(x='ReadingScore', y='WritingScore', data=df2)\n",
        "plt.show()"
      ]
    },
    {
      "cell_type": "markdown",
      "source": [
        "Note: Reading and Writing have a more narrow distribution"
      ],
      "metadata": {
        "id": "IflMktkFhzCh"
      },
      "id": "IflMktkFhzCh"
    },
    {
      "cell_type": "code",
      "execution_count": null,
      "id": "8e00be71",
      "metadata": {
        "execution": {
          "iopub.execute_input": "2023-05-23T05:00:22.494260Z",
          "iopub.status.busy": "2023-05-23T05:00:22.493800Z",
          "iopub.status.idle": "2023-05-23T05:00:23.000002Z",
          "shell.execute_reply": "2023-05-23T05:00:22.998764Z"
        },
        "papermill": {
          "duration": 0.543399,
          "end_time": "2023-05-23T05:00:23.002816",
          "exception": false,
          "start_time": "2023-05-23T05:00:22.459417",
          "status": "completed"
        },
        "tags": [],
        "id": "8e00be71"
      },
      "outputs": [],
      "source": [
        "#correlation map\n",
        "corr = df2.corr()\n",
        "sns.heatmap(corr, annot=True, cmap='coolwarm')\n",
        "plt.title('Correlation Matrix')\n",
        "plt.show()"
      ]
    },
    {
      "cell_type": "markdown",
      "source": [
        "Reading and Writing are highly correlated.\n",
        "It doesn't seem (so far) that number of siblings is correlated much to any test\n"
      ],
      "metadata": {
        "id": "SzKGuGg9h_zL"
      },
      "id": "SzKGuGg9h_zL"
    },
    {
      "cell_type": "code",
      "execution_count": null,
      "id": "ad18fcba",
      "metadata": {
        "execution": {
          "iopub.execute_input": "2023-05-23T05:00:23.071519Z",
          "iopub.status.busy": "2023-05-23T05:00:23.071121Z",
          "iopub.status.idle": "2023-05-23T05:00:23.175925Z",
          "shell.execute_reply": "2023-05-23T05:00:23.174540Z"
        },
        "papermill": {
          "duration": 0.142827,
          "end_time": "2023-05-23T05:00:23.179190",
          "exception": false,
          "start_time": "2023-05-23T05:00:23.036363",
          "status": "completed"
        },
        "tags": [],
        "id": "ad18fcba"
      },
      "outputs": [],
      "source": [
        "#lets view the NaN values\n",
        "#This will show how many NAN values exist on each feature\n",
        "df2.isna().sum()"
      ]
    },
    {
      "cell_type": "code",
      "execution_count": null,
      "id": "a28b7622",
      "metadata": {
        "execution": {
          "iopub.execute_input": "2023-05-23T05:00:23.247737Z",
          "iopub.status.busy": "2023-05-23T05:00:23.247229Z",
          "iopub.status.idle": "2023-05-23T05:00:23.259292Z",
          "shell.execute_reply": "2023-05-23T05:00:23.258068Z"
        },
        "papermill": {
          "duration": 0.049215,
          "end_time": "2023-05-23T05:00:23.261591",
          "exception": false,
          "start_time": "2023-05-23T05:00:23.212376",
          "status": "completed"
        },
        "tags": [],
        "id": "a28b7622"
      },
      "outputs": [],
      "source": [
        "# Another way to count NAN entries per feature.\n",
        "# this should equal 1779\n",
        "df2['TestPrep'].isna().sum()"
      ]
    },
    {
      "cell_type": "markdown",
      "id": "197ee5bc",
      "metadata": {
        "papermill": {
          "duration": 0.034308,
          "end_time": "2023-05-23T05:00:23.329126",
          "exception": false,
          "start_time": "2023-05-23T05:00:23.294818",
          "status": "completed"
        },
        "tags": [],
        "id": "197ee5bc"
      },
      "source": [
        "**Preprocessing**"
      ]
    },
    {
      "cell_type": "code",
      "execution_count": null,
      "id": "5e508ab8",
      "metadata": {
        "execution": {
          "iopub.execute_input": "2023-05-23T05:00:23.399008Z",
          "iopub.status.busy": "2023-05-23T05:00:23.397835Z",
          "iopub.status.idle": "2023-05-23T05:00:23.503929Z",
          "shell.execute_reply": "2023-05-23T05:00:23.502718Z"
        },
        "papermill": {
          "duration": 0.143857,
          "end_time": "2023-05-23T05:00:23.506412",
          "exception": false,
          "start_time": "2023-05-23T05:00:23.362555",
          "status": "completed"
        },
        "tags": [],
        "id": "5e508ab8"
      },
      "outputs": [],
      "source": [
        "#we can drop these values, but we may have significantly less data to use. \n",
        "#lets see the difference\n",
        "df_dropped = df2.dropna().copy()\n",
        "\n",
        "rows_df2 = df2.shape[0]\n",
        "rows_df_dropped = df_dropped.shape[0]\n",
        "print(\"Number of rows in df2:\", rows_df2)\n",
        "print(\"Number of rows in df_dropped:\", rows_df_dropped)\n",
        "print(\"Percentage of Rows that Remain:\", rows_df_dropped / rows_df2)"
      ]
    },
    {
      "cell_type": "code",
      "execution_count": null,
      "id": "9accf91e",
      "metadata": {
        "execution": {
          "iopub.execute_input": "2023-05-23T05:00:23.575681Z",
          "iopub.status.busy": "2023-05-23T05:00:23.574991Z",
          "iopub.status.idle": "2023-05-23T05:00:23.599073Z",
          "shell.execute_reply": "2023-05-23T05:00:23.597866Z"
        },
        "papermill": {
          "duration": 0.061521,
          "end_time": "2023-05-23T05:00:23.601801",
          "exception": false,
          "start_time": "2023-05-23T05:00:23.540280",
          "status": "completed"
        },
        "tags": [],
        "id": "9accf91e"
      },
      "outputs": [],
      "source": [
        "#Is this tradeoff worth it?\n",
        "#For this sake of this analysis, I will remove the nulls and continue\n",
        "NewDF = df_dropped.copy()\n",
        "NewDF.head(10)"
      ]
    },
    {
      "cell_type": "code",
      "execution_count": null,
      "id": "94a3b7a3",
      "metadata": {
        "execution": {
          "iopub.execute_input": "2023-05-23T05:00:23.673638Z",
          "iopub.status.busy": "2023-05-23T05:00:23.672956Z",
          "iopub.status.idle": "2023-05-23T05:00:23.677706Z",
          "shell.execute_reply": "2023-05-23T05:00:23.676812Z"
        },
        "papermill": {
          "duration": 0.044694,
          "end_time": "2023-05-23T05:00:23.680102",
          "exception": false,
          "start_time": "2023-05-23T05:00:23.635408",
          "status": "completed"
        },
        "tags": [],
        "id": "94a3b7a3"
      },
      "outputs": [],
      "source": [
        "#no remaining nulls\n"
      ]
    },
    {
      "cell_type": "code",
      "execution_count": null,
      "id": "9065e9f0",
      "metadata": {
        "execution": {
          "iopub.execute_input": "2023-05-23T05:00:23.855980Z",
          "iopub.status.busy": "2023-05-23T05:00:23.855181Z",
          "iopub.status.idle": "2023-05-23T05:00:23.863693Z",
          "shell.execute_reply": "2023-05-23T05:00:23.862399Z"
        },
        "papermill": {
          "duration": 0.049911,
          "end_time": "2023-05-23T05:00:23.866546",
          "exception": false,
          "start_time": "2023-05-23T05:00:23.816635",
          "status": "completed"
        },
        "tags": [],
        "id": "9065e9f0"
      },
      "outputs": [],
      "source": [
        "NewDF.shape"
      ]
    },
    {
      "cell_type": "code",
      "execution_count": null,
      "id": "f435fdc3",
      "metadata": {
        "execution": {
          "iopub.execute_input": "2023-05-23T05:00:23.938473Z",
          "iopub.status.busy": "2023-05-23T05:00:23.938040Z",
          "iopub.status.idle": "2023-05-23T05:00:23.943849Z",
          "shell.execute_reply": "2023-05-23T05:00:23.942600Z"
        },
        "papermill": {
          "duration": 0.044863,
          "end_time": "2023-05-23T05:00:23.946532",
          "exception": false,
          "start_time": "2023-05-23T05:00:23.901669",
          "status": "completed"
        },
        "tags": [],
        "id": "f435fdc3"
      },
      "outputs": [],
      "source": [
        "#Categorical Data Preprocessing\n",
        "\n",
        "#-----------------------------------------#\n",
        "\n",
        "\n",
        "#TestPrep: Label Encoding\n",
        "#PracticeSport: Ordinal Encoding\n",
        "#IsFirstChild: Label Encoding\n",
        "#NrSiblings: Already Numerical\n",
        "#TranportMeans: One-Hot Encoding\n",
        "#WklyStudyHours: One-Hot Encoding\n",
        "\n",
        "#-----------------------------------------#"
      ]
    },
    {
      "cell_type": "code",
      "execution_count": null,
      "id": "83d52401",
      "metadata": {
        "execution": {
          "iopub.execute_input": "2023-05-23T05:00:24.727081Z",
          "iopub.status.busy": "2023-05-23T05:00:24.725829Z",
          "iopub.status.idle": "2023-05-23T05:00:24.735422Z",
          "shell.execute_reply": "2023-05-23T05:00:24.733970Z"
        },
        "papermill": {
          "duration": 0.050402,
          "end_time": "2023-05-23T05:00:24.738787",
          "exception": false,
          "start_time": "2023-05-23T05:00:24.688385",
          "status": "completed"
        },
        "tags": [],
        "id": "83d52401"
      },
      "outputs": [],
      "source": [
        "#TestPrep Unique\n",
        "unique_testprep = NewDF['TestPrep'].unique()\n",
        "print(unique_testprep)"
      ]
    },
    {
      "cell_type": "code",
      "execution_count": null,
      "id": "f85e5e6e",
      "metadata": {
        "execution": {
          "iopub.execute_input": "2023-05-23T05:00:24.813220Z",
          "iopub.status.busy": "2023-05-23T05:00:24.812767Z",
          "iopub.status.idle": "2023-05-23T05:00:24.843548Z",
          "shell.execute_reply": "2023-05-23T05:00:24.842651Z"
        },
        "papermill": {
          "duration": 0.070818,
          "end_time": "2023-05-23T05:00:24.846003",
          "exception": false,
          "start_time": "2023-05-23T05:00:24.775185",
          "status": "completed"
        },
        "tags": [],
        "id": "f85e5e6e"
      },
      "outputs": [],
      "source": [
        "#TestPrep\n",
        "from sklearn.preprocessing import LabelEncoder\n",
        "label_encoder = LabelEncoder()\n",
        "NewDF['TestPrep_Encoded'] = label_encoder.fit_transform(NewDF['TestPrep'])\n",
        "NewDF.drop('TestPrep', axis=1, inplace=True)\n",
        "NewDF.head()"
      ]
    },
    {
      "cell_type": "code",
      "execution_count": null,
      "id": "1f7b4634",
      "metadata": {
        "execution": {
          "iopub.execute_input": "2023-05-23T05:00:25.121458Z",
          "iopub.status.busy": "2023-05-23T05:00:25.120666Z",
          "iopub.status.idle": "2023-05-23T05:00:25.130646Z",
          "shell.execute_reply": "2023-05-23T05:00:25.128449Z"
        },
        "papermill": {
          "duration": 0.051291,
          "end_time": "2023-05-23T05:00:25.133290",
          "exception": false,
          "start_time": "2023-05-23T05:00:25.081999",
          "status": "completed"
        },
        "tags": [],
        "id": "1f7b4634"
      },
      "outputs": [],
      "source": [
        "#PracticeSport Unique Values\n",
        "unique_ps = NewDF['PracticeSport'].unique()\n",
        "print(unique_ps)"
      ]
    },
    {
      "cell_type": "code",
      "execution_count": null,
      "id": "56941902",
      "metadata": {
        "execution": {
          "iopub.execute_input": "2023-05-23T05:00:25.211055Z",
          "iopub.status.busy": "2023-05-23T05:00:25.209441Z",
          "iopub.status.idle": "2023-05-23T05:00:25.242766Z",
          "shell.execute_reply": "2023-05-23T05:00:25.241125Z"
        },
        "papermill": {
          "duration": 0.075001,
          "end_time": "2023-05-23T05:00:25.245407",
          "exception": false,
          "start_time": "2023-05-23T05:00:25.170406",
          "status": "completed"
        },
        "tags": [],
        "id": "56941902"
      },
      "outputs": [],
      "source": [
        "#PracticeSport\n",
        "#define the ordinal mapping dictionary\n",
        "ordinal_mapping1 = {\n",
        "    'never': 0,\n",
        "    'sometimes': .5,\n",
        "    'regularly': 1 \n",
        "}\n",
        "#apply ordinal encoding\n",
        "NewDF['PracticeSport_Encoded'] = NewDF['PracticeSport'].map(ordinal_mapping1)\n",
        "NewDF.drop('PracticeSport', axis=1, inplace=True)\n",
        "NewDF.head()"
      ]
    },
    {
      "cell_type": "code",
      "execution_count": null,
      "id": "b9907246",
      "metadata": {
        "execution": {
          "iopub.execute_input": "2023-05-23T05:00:25.323793Z",
          "iopub.status.busy": "2023-05-23T05:00:25.322685Z",
          "iopub.status.idle": "2023-05-23T05:00:25.360964Z",
          "shell.execute_reply": "2023-05-23T05:00:25.358854Z"
        },
        "papermill": {
          "duration": 0.080853,
          "end_time": "2023-05-23T05:00:25.363917",
          "exception": false,
          "start_time": "2023-05-23T05:00:25.283064",
          "status": "completed"
        },
        "tags": [],
        "id": "b9907246"
      },
      "outputs": [],
      "source": [
        "#IsFirstChild\n",
        "from sklearn.preprocessing import LabelEncoder\n",
        "label_encoder2 = LabelEncoder()\n",
        "NewDF['IsFirstChild_Encoded'] = label_encoder2.fit_transform(NewDF['IsFirstChild'])\n",
        "NewDF.drop('IsFirstChild', axis=1, inplace=True)\n",
        "NewDF.head()"
      ]
    },
    {
      "cell_type": "code",
      "execution_count": null,
      "id": "4eeddaaf",
      "metadata": {
        "execution": {
          "iopub.execute_input": "2023-05-23T05:00:25.446109Z",
          "iopub.status.busy": "2023-05-23T05:00:25.445569Z",
          "iopub.status.idle": "2023-05-23T05:00:25.455790Z",
          "shell.execute_reply": "2023-05-23T05:00:25.454040Z"
        },
        "papermill": {
          "duration": 0.053908,
          "end_time": "2023-05-23T05:00:25.458326",
          "exception": false,
          "start_time": "2023-05-23T05:00:25.404418",
          "status": "completed"
        },
        "tags": [],
        "id": "4eeddaaf"
      },
      "outputs": [],
      "source": [
        "#TransportMeans Unique\n",
        "unique_TM = NewDF['TransportMeans'].unique()\n",
        "print(unique_TM)"
      ]
    },
    {
      "cell_type": "code",
      "execution_count": null,
      "id": "5f36980e",
      "metadata": {
        "execution": {
          "iopub.execute_input": "2023-05-23T05:00:25.538690Z",
          "iopub.status.busy": "2023-05-23T05:00:25.537857Z",
          "iopub.status.idle": "2023-05-23T05:00:25.574133Z",
          "shell.execute_reply": "2023-05-23T05:00:25.572799Z"
        },
        "papermill": {
          "duration": 0.080304,
          "end_time": "2023-05-23T05:00:25.577078",
          "exception": false,
          "start_time": "2023-05-23T05:00:25.496774",
          "status": "completed"
        },
        "tags": [],
        "id": "5f36980e"
      },
      "outputs": [],
      "source": [
        "#TransportMeans\n",
        "from sklearn.preprocessing import LabelEncoder\n",
        "label_encoder4 = LabelEncoder()\n",
        "NewDF['TransportMeans_Encoded'] = label_encoder4.fit_transform(NewDF['TransportMeans'])\n",
        "NewDF.drop('TransportMeans', axis=1, inplace=True)\n",
        "NewDF.head()"
      ]
    },
    {
      "cell_type": "code",
      "execution_count": null,
      "id": "5507ff6d",
      "metadata": {
        "execution": {
          "iopub.execute_input": "2023-05-23T05:00:25.658304Z",
          "iopub.status.busy": "2023-05-23T05:00:25.657845Z",
          "iopub.status.idle": "2023-05-23T05:00:25.691275Z",
          "shell.execute_reply": "2023-05-23T05:00:25.689963Z"
        },
        "papermill": {
          "duration": 0.076824,
          "end_time": "2023-05-23T05:00:25.693897",
          "exception": false,
          "start_time": "2023-05-23T05:00:25.617073",
          "status": "completed"
        },
        "tags": [],
        "id": "5507ff6d"
      },
      "outputs": [],
      "source": [
        "#WklyStudyHours\n",
        "#PracticeSport\n",
        "#define the ordinal mapping dictionary\n",
        "ordinal_mapping3 = {\n",
        "    '< 5': 0,\n",
        "    '5 - 10': .5,\n",
        "    '> 10': 1 \n",
        "}\n",
        "#apply ordinal encoding\n",
        "NewDF['WklyStudyHours_Encoded'] = NewDF['WklyStudyHours'].map(ordinal_mapping3)\n",
        "NewDF.drop('WklyStudyHours', axis=1, inplace=True)\n",
        "NewDF.head()"
      ]
    },
    {
      "cell_type": "code",
      "execution_count": null,
      "id": "b5d75e7f",
      "metadata": {
        "execution": {
          "iopub.execute_input": "2023-05-23T05:00:25.775663Z",
          "iopub.status.busy": "2023-05-23T05:00:25.775238Z",
          "iopub.status.idle": "2023-05-23T05:00:25.810311Z",
          "shell.execute_reply": "2023-05-23T05:00:25.808926Z"
        },
        "papermill": {
          "duration": 0.080269,
          "end_time": "2023-05-23T05:00:25.813290",
          "exception": false,
          "start_time": "2023-05-23T05:00:25.733021",
          "status": "completed"
        },
        "tags": [],
        "id": "b5d75e7f"
      },
      "outputs": [],
      "source": [
        "from sklearn.preprocessing import MinMaxScaler\n",
        "scaler = MinMaxScaler(feature_range=(0, 1))\n",
        "siblings = NewDF['NrSiblings'].values.reshape(-1, 1)\n",
        "normalized_siblings = scaler.fit_transform(siblings)\n",
        "NewDF['NrSiblings_normalized'] = normalized_siblings\n",
        "NewDF.drop('NrSiblings', axis=1, inplace=True)\n",
        "NewDF.head()"
      ]
    },
    {
      "cell_type": "code",
      "execution_count": null,
      "id": "57c149d6",
      "metadata": {
        "execution": {
          "iopub.execute_input": "2023-05-23T05:00:25.898682Z",
          "iopub.status.busy": "2023-05-23T05:00:25.898247Z",
          "iopub.status.idle": "2023-05-23T05:00:25.939282Z",
          "shell.execute_reply": "2023-05-23T05:00:25.937939Z"
        },
        "papermill": {
          "duration": 0.088176,
          "end_time": "2023-05-23T05:00:25.941994",
          "exception": false,
          "start_time": "2023-05-23T05:00:25.853818",
          "status": "completed"
        },
        "tags": [],
        "id": "57c149d6"
      },
      "outputs": [],
      "source": [
        "# Remove missing values\n",
        "NewDF.dropna()"
      ]
    },
    {
      "cell_type": "markdown",
      "id": "f5d558db",
      "metadata": {
        "papermill": {
          "duration": 0.039928,
          "end_time": "2023-05-23T05:00:26.021871",
          "exception": false,
          "start_time": "2023-05-23T05:00:25.981943",
          "status": "completed"
        },
        "tags": [],
        "id": "f5d558db"
      },
      "source": [
        "\n",
        "\n",
        "\n",
        "\n",
        "\n",
        "# **Model Creation / Data Split**\n",
        "\n",
        "\n",
        "\n",
        "\n"
      ]
    },
    {
      "cell_type": "code",
      "execution_count": null,
      "id": "cf34f904",
      "metadata": {
        "execution": {
          "iopub.execute_input": "2023-05-23T05:00:26.106645Z",
          "iopub.status.busy": "2023-05-23T05:00:26.106235Z",
          "iopub.status.idle": "2023-05-23T05:00:26.493115Z",
          "shell.execute_reply": "2023-05-23T05:00:26.491431Z"
        },
        "papermill": {
          "duration": 0.435252,
          "end_time": "2023-05-23T05:00:26.497495",
          "exception": false,
          "start_time": "2023-05-23T05:00:26.062243",
          "status": "completed"
        },
        "tags": [],
        "id": "cf34f904"
      },
      "outputs": [],
      "source": [
        "from sklearn.linear_model import LinearRegression\n",
        "from sklearn.model_selection import train_test_split\n",
        "from sklearn.metrics import mean_squared_error, mean_absolute_error, r2_score\n",
        "\n",
        "#MathScore regression\n",
        "X_math = NewDF.drop([\"MathScore\", \"ReadingScore\", \"WritingScore\"], axis=1)\n",
        "y_math = NewDF[\"MathScore\"]\n",
        "\n",
        "#ReadingScore regression\n",
        "X_reading = NewDF.drop([\"MathScore\", \"ReadingScore\", \"WritingScore\"], axis=1)\n",
        "y_reading = NewDF[\"ReadingScore\"]\n",
        "\n",
        "#WritingScore regression\n",
        "X_writing = NewDF.drop([\"MathScore\", \"ReadingScore\", \"WritingScore\"], axis=1)\n",
        "y_writing = NewDF[\"WritingScore\"]\n",
        "\n",
        "X_math_train, X_math_test, y_math_train, y_math_test = train_test_split(X_math, y_math, test_size=0.2, random_state=42)\n",
        "X_reading_train, X_reading_test, y_reading_train, y_reading_test = train_test_split(X_reading, y_reading, test_size=0.2, random_state=42)\n",
        "X_writing_train, X_writing_test, y_writing_train, y_writing_test = train_test_split(X_writing, y_writing, test_size=0.2, random_state=42)\n",
        "\n",
        "#MathScore regression\n",
        "reg_math = LinearRegression()\n",
        "reg_math.fit(X_math_train, y_math_train)\n",
        "\n",
        "#ReadingScore regression\n",
        "reg_reading = LinearRegression()\n",
        "reg_reading.fit(X_reading_train, y_reading_train)\n",
        "\n",
        "#WritingScore regression\n",
        "reg_writing = LinearRegression()\n",
        "reg_writing.fit(X_writing_train, y_writing_train)\n",
        "\n",
        "#MathScore regression\n",
        "y_math_pred = reg_math.predict(X_math_test)\n",
        "\n",
        "#ReadingScore regression\n",
        "y_reading_pred = reg_reading.predict(X_reading_test)\n",
        "\n",
        "#WritingScore regression\n",
        "y_writing_pred = reg_writing.predict(X_writing_test)\n"
      ]
    },
    {
      "cell_type": "markdown",
      "id": "09525ce8",
      "metadata": {
        "papermill": {
          "duration": 0.039858,
          "end_time": "2023-05-23T05:00:26.658781",
          "exception": false,
          "start_time": "2023-05-23T05:00:26.618923",
          "status": "completed"
        },
        "tags": [],
        "id": "09525ce8"
      },
      "source": [
        "# **Model Summary and Analysis**"
      ]
    },
    {
      "cell_type": "code",
      "execution_count": null,
      "id": "1f0a67a2",
      "metadata": {
        "execution": {
          "iopub.execute_input": "2023-05-23T05:00:26.742384Z",
          "iopub.status.busy": "2023-05-23T05:00:26.741969Z",
          "iopub.status.idle": "2023-05-23T05:00:26.760898Z",
          "shell.execute_reply": "2023-05-23T05:00:26.759179Z"
        },
        "papermill": {
          "duration": 0.064176,
          "end_time": "2023-05-23T05:00:26.763573",
          "exception": false,
          "start_time": "2023-05-23T05:00:26.699397",
          "status": "completed"
        },
        "tags": [],
        "id": "1f0a67a2"
      },
      "outputs": [],
      "source": [
        "# MathScore regression evaluation\n",
        "mse_math = mean_squared_error(y_math_test, y_math_pred)\n",
        "mae_math = mean_absolute_error(y_math_test, y_math_pred)\n",
        "r2_math = r2_score(y_math_test, y_math_pred)\n",
        "\n",
        "# ReadingScore regression evaluation\n",
        "mse_reading = mean_squared_error(y_reading_test, y_reading_pred)\n",
        "mae_reading = mean_absolute_error(y_reading_test, y_reading_pred)\n",
        "r2_reading = r2_score(y_reading_test, y_reading_pred)\n",
        "\n",
        "# WritingScore regression evaluation\n",
        "mse_writing = mean_squared_error(y_writing_test, y_writing_pred)\n",
        "mae_writing = mean_absolute_error(y_writing_test, y_writing_pred)\n",
        "r2_writing = r2_score(y_writing_test, y_writing_pred)\n",
        "\n",
        "# Print the evaluation metrics\n",
        "print()\n",
        "print(\"MathScore Regression:\")\n",
        "print(\"Mean Squared Error (MSE):\", mse_math)\n",
        "print(\"Mean Absolute Error (MAE):\", mae_math)\n",
        "print(\"R-squared (R2):\", r2_math)\n",
        "print()\n",
        "print(\"ReadingScore Regression:\")\n",
        "print(\"Mean Squared Error (MSE):\", mse_reading)\n",
        "print(\"Mean Absolute Error (MAE):\", mae_reading)\n",
        "print(\"R-squared (R2):\", r2_reading)\n",
        "print()\n",
        "print(\"WritingScore Regression:\")\n",
        "print(\"Mean Squared Error (MSE):\", mse_writing)\n",
        "print(\"Mean Absolute Error (MAE):\", mae_writing)\n",
        "print(\"R-squared (R2):\", r2_writing)\n"
      ]
    },
    {
      "cell_type": "code",
      "execution_count": null,
      "id": "06fa6926",
      "metadata": {
        "execution": {
          "iopub.execute_input": "2023-05-23T05:00:26.950060Z",
          "iopub.status.busy": "2023-05-23T05:00:26.949590Z",
          "iopub.status.idle": "2023-05-23T05:00:26.972454Z",
          "shell.execute_reply": "2023-05-23T05:00:26.971464Z"
        },
        "papermill": {
          "duration": 0.0694,
          "end_time": "2023-05-23T05:00:26.975404",
          "exception": false,
          "start_time": "2023-05-23T05:00:26.906004",
          "status": "completed"
        },
        "tags": [],
        "id": "06fa6926"
      },
      "outputs": [],
      "source": [
        "# MathScore regression feature importances\n",
        "math_feature_importances = pd.DataFrame({'Feature': X_math.columns, 'Coefficient': reg_math.coef_})\n",
        "math_feature_importances = math_feature_importances.sort_values(by='Coefficient', ascending=False)\n",
        "\n",
        "# ReadingScore regression feature importances\n",
        "reading_feature_importances = pd.DataFrame({'Feature': X_reading.columns, 'Coefficient': reg_reading.coef_})\n",
        "reading_feature_importances = reading_feature_importances.sort_values(by='Coefficient', ascending=False)\n",
        "\n",
        "# WritingScore regression feature importances\n",
        "writing_feature_importances = pd.DataFrame({'Feature': X_writing.columns, 'Coefficient': reg_writing.coef_})\n",
        "writing_feature_importances = writing_feature_importances.sort_values(by='Coefficient', ascending=False)\n",
        "\n",
        "# Print feature importances for each model\n",
        "print(\"MathScore Regression Feature Importances:\")\n",
        "print(math_feature_importances)\n",
        "print()\n",
        "print(\"ReadingScore Regression Feature Importances:\")\n",
        "print(reading_feature_importances)\n",
        "print()\n",
        "print(\"WritingScore Regression Feature Importances:\")\n",
        "print(writing_feature_importances)"
      ]
    }
  ],
  "metadata": {
    "kernelspec": {
      "display_name": "Python 3",
      "language": "python",
      "name": "python3"
    },
    "language_info": {
      "codemirror_mode": {
        "name": "ipython",
        "version": 3
      },
      "file_extension": ".py",
      "mimetype": "text/x-python",
      "name": "python",
      "nbconvert_exporter": "python",
      "pygments_lexer": "ipython3",
      "version": "3.10.10"
    },
    "papermill": {
      "default_parameters": {},
      "duration": 29.333295,
      "end_time": "2023-05-23T05:00:28.312779",
      "environment_variables": {},
      "exception": null,
      "input_path": "__notebook__.ipynb",
      "output_path": "__notebook__.ipynb",
      "parameters": {},
      "start_time": "2023-05-23T04:59:58.979484",
      "version": "2.4.0"
    },
    "colab": {
      "provenance": []
    }
  },
  "nbformat": 4,
  "nbformat_minor": 5
}